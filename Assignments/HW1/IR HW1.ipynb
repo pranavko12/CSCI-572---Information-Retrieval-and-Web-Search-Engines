{
 "cells": [
  {
   "cell_type": "code",
   "execution_count": 1,
   "metadata": {},
   "outputs": [],
   "source": [
    "import time\n",
    "import json\n",
    "import requests\n",
    "import random\n",
    "from bs4 import BeautifulSoup"
   ]
  },
  {
   "cell_type": "code",
   "execution_count": 2,
   "metadata": {},
   "outputs": [],
   "source": [
    "USER_AGENT = {\"User-Agent\" : \"Mozilla/5.0 (Windows NT 10.0; Win64; x64) AppleWebKit/537.36 (KHTML, like Gecko) Chrome/107.0.0.0 Safari/537.36\"}"
   ]
  },
  {
   "cell_type": "markdown",
   "metadata": {},
   "source": [
    "**TASK 1**"
   ]
  },
  {
   "cell_type": "code",
   "execution_count": 3,
   "metadata": {},
   "outputs": [],
   "source": [
    "def load_queries(filename):\n",
    "    with open(filename, \"r\") as f:\n",
    "        return [line.strip() for line in f.readlines()]\n",
    "\n",
    "def search(engine, query):\n",
    "    time.sleep(random.randint(10, 100))\n",
    "    url = 'http://www.bing.com/search?q=' + \"+\".join(query.split())\n",
    "    response = requests.get(url, headers=USER_AGENT)\n",
    "    soup = BeautifulSoup(response.text, \"html.parser\")\n",
    "    return scrape_results(soup, engine)\n",
    "\n",
    "def scrape_results(soup, engine):\n",
    "    raw_results = soup.find_all(\"li\", attrs={\"class\": \"b_algo\"})\n",
    "\n",
    "    results = []\n",
    "    for result in raw_results[:10]:\n",
    "        link = result.find(\"a\")[\"href\"] if result.find(\"a\") else None\n",
    "        if link and link not in results:\n",
    "            results.append(link)\n",
    "    return results"
   ]
  },
  {
   "cell_type": "code",
   "execution_count": 4,
   "metadata": {},
   "outputs": [],
   "source": [
    "queries = load_queries(\"C:/Users/admin/Desktop/MS/Sem 3/IR/HW1/100QueriesSet1.txt\")\n",
    "results = {}\n",
    "for query in queries:\n",
    "    results[query] = search(\"Bing\", query)  \n",
    "with open(\"C:/Users/admin/Desktop/MS/Sem 3/IR/HW1/hw1.json\", \"w\") as f:\n",
    "    json.dump(results, f, indent=4)"
   ]
  },
  {
   "cell_type": "markdown",
   "metadata": {},
   "source": [
    "**TASK 2**"
   ]
  },
  {
   "cell_type": "code",
   "execution_count": 47,
   "metadata": {},
   "outputs": [],
   "source": [
    "import numpy as np\n",
    "import pandas as pd\n",
    "import json\n",
    "\n",
    "bing_file_path = \"C:/Users/admin/Desktop/MS/Sem 3/IR/HW1/hw1.json\"\n",
    "with open(bing_file_path, \"r\") as f:\n",
    "    bing_results = json.load(f)\n",
    "\n",
    "google_file_path = \"C:/Users/admin/Desktop/MS/Sem 3/IR/HW1/Google_Result1.json\"\n",
    "with open(google_file_path, \"r\") as f:\n",
    "    google_results = json.load(f)"
   ]
  },
  {
   "cell_type": "code",
   "execution_count": 48,
   "metadata": {},
   "outputs": [],
   "source": [
    "def spearman_rank_correlation(google_urls, bing_urls):\n",
    "    matched_urls = list(set(google_urls) & set(bing_urls))\n",
    "    n = len(matched_urls)\n",
    "\n",
    "    if n < 2:  # Fix: Directly check `n`\n",
    "        return 0  \n",
    "\n",
    "    # Create ranking dictionaries for Google and Bing\n",
    "    google_ranks = {url: rank + 1 for rank, url in enumerate(google_urls)}\n",
    "    bing_ranks = {url: rank + 1 for rank, url in enumerate(bing_urls)}\n",
    "\n",
    "    # Extract ranks for matched URLs\n",
    "    google_ranks_list = [google_ranks[url] for url in matched_urls]\n",
    "    bing_ranks_list = [bing_ranks[url] for url in matched_urls]\n",
    "\n",
    "    # Compute rank differences\n",
    "    d_i_squared = [(g - b) ** 2 for g, b in zip(google_ranks_list, bing_ranks_list)]\n",
    "\n",
    "    # Spearman formula\n",
    "    sum_d_i_squared = sum(d_i_squared)\n",
    "    rho = 1 - (6 * sum_d_i_squared) / (n * (n**2 - 1))\n",
    "\n",
    "    return rho\n"
   ]
  },
  {
   "cell_type": "code",
   "execution_count": 49,
   "metadata": {},
   "outputs": [],
   "source": [
    "final_results = []\n",
    "for idx, query in enumerate(google_results.keys()):\n",
    "    google_urls = google_results[query]\n",
    "    bing_urls = bing_results.get(query, [])\n",
    "\n",
    "    matching_urls = list(set(google_urls) & set(bing_urls))\n",
    "    num_matching_urls = len(matching_urls)\n",
    "    overlap_percentage = num_matching_urls / len(google_urls) * 100 if google_urls else 0\n",
    "\n",
    "    spearman_coefficient = spearman_rank_correlation(google_urls, bing_urls)\n",
    "\n",
    "    final_results.append([f\"Query {idx+1}\", num_matching_urls, overlap_percentage, spearman_coefficient])"
   ]
  },
  {
   "cell_type": "code",
   "execution_count": 50,
   "metadata": {},
   "outputs": [
    {
     "name": "stdout",
     "output_type": "stream",
     "text": [
      "Comparison table saved as hw_1.csv\n"
     ]
    }
   ],
   "source": [
    "df = pd.DataFrame(final_results, columns=[\"Query\", \"Number of Overlapping Results\", \"Percent Overlap\", \"Spearman Coefficient\"])\n",
    "df[\"Spearman Coefficient\"] = df[\"Spearman Coefficient\"].round(4)\n",
    "\n",
    "average_values = df[[\"Number of Overlapping Results\", \"Percent Overlap\", \"Spearman Coefficient\"]].mean()\n",
    "df = df.append({\n",
    "    \"Query\": \"Averages\",\n",
    "    \"Number of Overlapping Results\": average_values[\"Number of Overlapping Results\"],\n",
    "    \"Percent Overlap\": average_values[\"Percent Overlap\"],\n",
    "    \"Spearman Coefficient\": average_values[\"Spearman Coefficient\"]\n",
    "}, ignore_index=True)\n",
    "csv_file_path = \"hw_1.csv\"\n",
    "df.to_csv(csv_file_path, index=False)\n",
    "\n",
    "print(f\"Comparison table saved as {csv_file_path}\")"
   ]
  }
 ],
 "metadata": {
  "kernelspec": {
   "display_name": "Python 3",
   "language": "python",
   "name": "python3"
  },
  "language_info": {
   "codemirror_mode": {
    "name": "ipython",
    "version": 3
   },
   "file_extension": ".py",
   "mimetype": "text/x-python",
   "name": "python",
   "nbconvert_exporter": "python",
   "pygments_lexer": "ipython3",
   "version": "3.8.5"
  }
 },
 "nbformat": 4,
 "nbformat_minor": 4
}
