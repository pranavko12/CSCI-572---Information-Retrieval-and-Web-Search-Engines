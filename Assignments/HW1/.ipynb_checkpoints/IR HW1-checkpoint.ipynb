{
 "cells": [
  {
   "cell_type": "code",
   "execution_count": 1,
   "metadata": {},
   "outputs": [],
   "source": [
    "import time\n",
    "import json\n",
    "import requests\n",
    "import random\n",
   ]
  },
  {
   "cell_type": "code",
   "execution_count": 2,
   "metadata": {},
   "outputs": [],
   "source": [
    "USER_AGENT = {\"User-Agent\" : \"Mozilla/5.0 (Windows NT 10.0; Win64; x64) AppleWebKit/537.36 (KHTML, like Gecko) Chrome/107.0.0.0 Safari/537.36\"}"
   ]
  },
  {
   "cell_type": "code",
   "execution_count": 3,
   "metadata": {},
   "outputs": [],
   "source": [
    "def load_queries(filename):\n",
    "    with open(filename, \"r\") as f:\n",
    "        return [line.strip() for line in f.readlines()]\n",
    "\n",
    "def search(engine, query):\n",
    "    time.sleep(random.randint(10, 100))\n",
    "    url = 'http://www.bing.com/search?q=' + \"+\".join(query.split())\n",
    "    response = requests.get(url, headers=USER_AGENT)\n",
    "    soup = BeautifulSoup(response.text, \"html.parser\")\n",
    "    return scrape_results(soup, engine)\n",
    "\n",
    "def scrape_results(soup, engine):\n",
    "    raw_results = soup.find_all(\"li\", attrs={\"class\": \"b_algo\"})\n",
    "\n",
    "    results = []\n",
    "    for result in raw_results[:10]:\n",
    "        link = result.find(\"a\")[\"href\"] if result.find(\"a\") else None\n",
    "        if link and link not in results:\n",
    "            results.append(link)\n",
    "    return results\n",
    "\n"
   ]
  },
  {
   "cell_type": "code",
   "execution_count": 5,
   "metadata": {},
   "outputs": [],
   "source": [
    "queries = load_queries(\"C:/Users/admin/Desktop/MS/Sem 3/IR/HW1/100QueriesSet1.txt\")\n",
    "results = {}\n",
    "for query in queries:\n",
    "    results[query] = search(\"Bing\", query)  \n",
    "with open(\"C:/Users/admin/Desktop/MS/Sem 3/IR/HW1/hw1.json\", \"w\") as f:\n",
    "    json.dump(results, f, indent=4)"
   ]
  }
 ],
 "metadata": {
  "kernelspec": {
   "display_name": "Python 3",
   "language": "python",
   "name": "python3"
  },
  "language_info": {
   "codemirror_mode": {
    "name": "ipython",
    "version": 3
   },
   "file_extension": ".py",
   "mimetype": "text/x-python",
   "name": "python",
   "nbconvert_exporter": "python",
   "pygments_lexer": "ipython3",
   "version": "3.8.5"
  }
 },
 "nbformat": 4,
 "nbformat_minor": 4
}
