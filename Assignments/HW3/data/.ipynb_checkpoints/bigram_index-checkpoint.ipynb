{
 "cells": [
  {
   "cell_type": "code",
   "execution_count": 1,
   "metadata": {},
   "outputs": [],
   "source": [
    "import os\n",
    "import re\n",
    "import sys\n",
    "from collections import defaultdict"
   ]
  },
  {
   "cell_type": "code",
   "execution_count": 2,
   "metadata": {},
   "outputs": [],
   "source": [
    "def sanitize(text):\n",
    "    text = re.sub(r'[^a-zA-Z\\s]', ' ', text)\n",
    "    return text.lower()"
   ]
  },
  {
   "cell_type": "code",
   "execution_count": 3,
   "metadata": {},
   "outputs": [],
   "source": [
    "def generate_bigram_mapping(folder, target_set):\n",
    "    mapping = defaultdict(lambda: defaultdict(int))\n",
    "    for file_entry in os.listdir(folder):\n",
    "        full_path = os.path.join(folder, file_entry)\n",
    "        if os.path.isfile(full_path):\n",
    "            with open(full_path, 'r', encoding='utf-8') as reader:\n",
    "                for line in reader:\n",
    "                    parts = line.split('\\t', 1)\n",
    "                    if len(parts) < 2:\n",
    "                        continue\n",
    "                    doc_key = parts[0]\n",
    "                    content = parts[1]\n",
    "                    fixed_text = sanitize(content)\n",
    "                    words = fixed_text.split()\n",
    "                    for i in range(len(words) - 1):\n",
    "                        w1 = words[i]\n",
    "                        w2 = words[i+1]\n",
    "                        if w1 and w2:\n",
    "                            bi = f\"{w1} {w2}\"\n",
    "                            if bi in target_set:\n",
    "                                mapping[bi][doc_key] += 1\n",
    "    return mapping"
   ]
  },
  {
   "cell_type": "code",
   "execution_count": 4,
   "metadata": {},
   "outputs": [],
   "source": [
    "def compile_results(mapping):\n",
    "    output = []\n",
    "    for phrase, subdict in sorted(mapping.items()):\n",
    "        counts = [f\"{doc}:{cnt}\" for doc, cnt in sorted(subdict.items())]\n",
    "        output.append(f\"{phrase}\\t{' '.join(counts)}\")\n",
    "    return output"
   ]
  },
  {
   "cell_type": "code",
   "execution_count": 5,
   "metadata": {},
   "outputs": [],
   "source": [
    "def main():\n",
    "    if not os.path.exists('devdata'):\n",
    "        print(\"Missing 'devdata' directory.\")\n",
    "        sys.exit(1)\n",
    "    bigram_targets = {\"computer science\", \"information retrieval\", \"power politics\", \"los angeles\", \"bruce willis\"}\n",
    "    bi_mapping = generate_bigram_mapping('devdata', bigram_targets)\n",
    "    result_lines = compile_results(bi_mapping)\n",
    "    with open('selected_bigram_index.txt', 'w', encoding='utf-8') as outfile:\n",
    "        outfile.write('\\n'.join(result_lines))\n",
    "    print(\"Bigram index created with\", len(result_lines), \"entries.\")"
   ]
  },
  {
   "cell_type": "code",
   "execution_count": 6,
   "metadata": {},
   "outputs": [
    {
     "name": "stdout",
     "output_type": "stream",
     "text": [
      "Bigram index created with 5 entries.\n"
     ]
    }
   ],
   "source": [
    "if __name__ == \"__main__\":\n",
    "    main()"
   ]
  }
 ],
 "metadata": {
  "kernelspec": {
   "display_name": "Python 3",
   "language": "python",
   "name": "python3"
  },
  "language_info": {
   "codemirror_mode": {
    "name": "ipython",
    "version": 3
   },
   "file_extension": ".py",
   "mimetype": "text/x-python",
   "name": "python",
   "nbconvert_exporter": "python",
   "pygments_lexer": "ipython3",
   "version": "3.8.5"
  }
 },
 "nbformat": 4,
 "nbformat_minor": 4
}
