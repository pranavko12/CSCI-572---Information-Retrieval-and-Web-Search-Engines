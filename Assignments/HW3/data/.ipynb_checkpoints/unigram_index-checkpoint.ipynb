{
 "cells": [
  {
   "cell_type": "code",
   "execution_count": 11,
   "metadata": {},
   "outputs": [],
   "source": [
    "import os\n",
    "import re\n",
    "import sys\n",
    "from collections import defaultdict"
   ]
  },
  {
   "cell_type": "code",
   "execution_count": 12,
   "metadata": {},
   "outputs": [],
   "source": [
    "def sanitize(text):\n",
    "    text = re.sub(r'[^a-zA-Z\\s]', ' ', text)\n",
    "    return text.lower()"
   ]
  },
  {
   "cell_type": "code",
   "execution_count": 13,
   "metadata": {},
   "outputs": [],
   "source": [
    "def generate_unigram_mapping(folder):\n",
    "    mapping = defaultdict(lambda: defaultdict(int))\n",
    "    for entry in os.listdir(folder):\n",
    "        full_path = os.path.join(folder, entry)\n",
    "        if os.path.isfile(full_path):\n",
    "            with open(full_path, 'r', encoding='utf-8') as handle:\n",
    "                for line in handle:\n",
    "                    items = line.split('\\t', 1)\n",
    "                    if len(items) < 2:\n",
    "                        continue\n",
    "                    doc_id = items[0]\n",
    "                    content = items[1]\n",
    "                    fixed_text = sanitize(content)\n",
    "                    tokens = fixed_text.split()\n",
    "                    for tok in tokens:\n",
    "                        tok = tok.strip()\n",
    "                        if tok:\n",
    "                            mapping[tok][doc_id] += 1\n",
    "    return mapping"
   ]
  },
  {
   "cell_type": "code",
   "execution_count": 14,
   "metadata": {},
   "outputs": [],
   "source": [
    "def compile_results(mapping):\n",
    "    results = []\n",
    "    for term, subdict in sorted(mapping.items()):\n",
    "        counts = [f\"{doc}:{cnt}\" for doc, cnt in sorted(subdict.items())]\n",
    "        results.append(f\"{term}\\t{' '.join(counts)}\")\n",
    "    return results"
   ]
  },
  {
   "cell_type": "code",
   "execution_count": 15,
   "metadata": {},
   "outputs": [],
   "source": [
    "def main():\n",
    "    if not os.path.exists('fulldata'):\n",
    "        print(\"Missing 'fulldata' directory.\")\n",
    "        sys.exit(1)\n",
    "    uni_mapping = generate_unigram_mapping('fulldata')\n",
    "    lines = compile_results(uni_mapping)\n",
    "    with open('unigram_index.txt', 'w', encoding='utf-8') as out_file:\n",
    "        out_file.write('\\n'.join(lines))\n",
    "    print(\"Unigram index created with\", len(lines), \"entries.\")"
   ]
  },
  {
   "cell_type": "code",
   "execution_count": 16,
   "metadata": {},
   "outputs": [
    {
     "name": "stdout",
     "output_type": "stream",
     "text": [
      "Unigram index created with 1076757 entries.\n"
     ]
    }
   ],
   "source": [
    "if __name__ == \"__main__\":\n",
    "    main()"
   ]
  }
 ],
 "metadata": {
  "kernelspec": {
   "display_name": "Python 3",
   "language": "python",
   "name": "python3"
  },
  "language_info": {
   "codemirror_mode": {
    "name": "ipython",
    "version": 3
   },
   "file_extension": ".py",
   "mimetype": "text/x-python",
   "name": "python",
   "nbconvert_exporter": "python",
   "pygments_lexer": "ipython3",
   "version": "3.8.5"
  }
 },
 "nbformat": 4,
 "nbformat_minor": 4
}
